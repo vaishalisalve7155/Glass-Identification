{
 "cells": [
  {
   "cell_type": "markdown",
   "id": "36c09094",
   "metadata": {},
   "source": [
    "# Glass Identification data set"
   ]
  },
  {
   "cell_type": "markdown",
   "id": "805a193e",
   "metadata": {},
   "source": [
    "# 1. Exploratory Data Analysis"
   ]
  },
  {
   "cell_type": "markdown",
   "id": "256ddf3d",
   "metadata": {},
   "source": [
    "1.1. Data set description"
   ]
  },
  {
   "cell_type": "markdown",
   "id": "81045f6c",
   "metadata": {},
   "source": [
    "Glass Identification data set was generated to help in criminological investigation."
   ]
  },
  {
   "cell_type": "code",
   "execution_count": null,
   "id": "a6b3324b",
   "metadata": {},
   "outputs": [],
   "source": [
    "import pandas as pd \n",
    "import numpy as np\n",
    "import seaborn as sns\n",
    "import matplotlib.pyplot as plt\n",
    "%matplotlib inline\n",
    "sns.set(style=\"white\")\n",
    "import warnings\n",
    "warnings.simplefilter(\"ignore\")"
   ]
  },
  {
   "cell_type": "code",
   "execution_count": null,
   "id": "48415824",
   "metadata": {},
   "outputs": [],
   "source": [
    "from sklearn.preprocessing import StandardScaler, RobustScaler\n",
    "from sklearn.pipeline import Pipeline\n",
    "from sklearn.decomposition import PCA\n",
    "\n",
    "from sklearn.svm import SVC\n",
    "from sklearn.neighbors import KNeighborsClassifier\n",
    "from sklearn.tree import DecisionTreeClassifier\n",
    "from sklearn.ensemble import RandomForestClassifier, ExtraTreesClassifier, AdaBoostClassifier\n",
    "\n",
    "from sklearn.model_selection import train_test_split\n",
    "from sklearn.model_selection import GridSearchCV\n",
    "from sklearn.model_selection import cross_val_score,cross_validate\n",
    "from sklearn.model_selection import KFold,StratifiedKFold\n",
    "from sklearn.metrics import classification_report,f1_score,accuracy_score,confusion_matrix\n",
    "\n",
    "from imblearn.over_sampling import SMOTE\n",
    "from imblearn.combine import SMOTEENN\n",
    "from imblearn.pipeline import make_pipeline"
   ]
  },
  {
   "cell_type": "code",
   "execution_count": null,
   "id": "ad4b6f60",
   "metadata": {},
   "outputs": [],
   "source": [
    "# load dataset\n",
    "df=pd.DataFrame.from_csv(\"glass.data.txt\", sep=\",\",header=None,index_col=None)\n",
    "# drop first column\n",
    "df=df[df.columns[1:11]]\n",
    "# Add columns name\n",
    "df.columns=[\"RI\",\"Na\",\"Mg\",\"Al\",\"Si\",\"K\",\"Ca\",\"Ba\",\"Fe\",\"Class\"]\n",
    "df.head(3)"
   ]
  },
  {
   "cell_type": "code",
   "execution_count": null,
   "id": "cd2280a9",
   "metadata": {},
   "outputs": [],
   "source": [
    "      RI      Na     Mg     Al     Si    K      Ca     Ba     Fe     Class\n",
    "0   1.52101  13.64  4.49   1.10   71.78  0.06   8.75   0.0    0.0     1\n",
    "1   1.51761  13.89  3.60   1.36   72.73  0.48   7.83   0.0    0.0     1\n",
    "2   1.51618  13.53  3.55   1.54   72.99  0.39   7.78   0.0    0.0     1\n"
   ]
  },
  {
   "cell_type": "code",
   "execution_count": null,
   "id": "af6db85d",
   "metadata": {},
   "outputs": [],
   "source": [
    "print(df.info())"
   ]
  },
  {
   "cell_type": "code",
   "execution_count": null,
   "id": "55b51ca4",
   "metadata": {},
   "outputs": [],
   "source": [
    "<class 'pandas.core.frame.DataFrame'>\n",
    "RangeIndex: 214 entries, 0 to 213\n",
    "Data columns (total 10 columns):\n",
    "RI       214 non-null float64\n",
    "Na       214 non-null float64\n",
    "Mg       214 non-null float64\n",
    "Al       214 non-null float64\n",
    "Si       214 non-null float64\n",
    "K        214 non-null float64\n",
    "Ca       214 non-null float64\n",
    "Ba       214 non-null float64\n",
    "Fe       214 non-null float64\n",
    "Class    214 non-null int64\n",
    "dtypes: float64(9), int64(1)\n",
    "memory usage: 16.8 KB\n",
    "None\n",
    "Data set contains 214 instances, 9 numeric attributes and class name."
   ]
  },
  {
   "cell_type": "markdown",
   "id": "b6889b79",
   "metadata": {},
   "source": [
    "There are no missing data.\n",
    "\n",
    "Features: 1. RI: refractive index 2. Na: Sodium (unit measurement: weight percent in corresponding oxide, as are attributes 3-9) 3. Mg: Magnesium 4. Al: Aluminum 5. Si: Silicon 6. K: Potassium 7. Ca: Calcium 8. Ba: Barium 9. Fe: Iron\n",
    "\n",
    "Glass types: 1. building_windows_float_processed 2. building_windows_non_float_processed 3. vehicle_windows_float_processed 4. vehicle_windows_non_float_processed (none in this database) 5. containers 6. tableware 7. headlamps\n",
    "\n",
    "1.2. Summary statistics and data distribution\n",
    "The mean of some features are very small, such as \"Fe\", \"Ba\" or very large, \"Si\". On the plot 1.1 we see \"Si\" feature has larger weight in the oxide. Naturally this is dominant component of glass. We will need to standardise the features so they all have mean of 0 and standard deviation of 1.\n",
    "\n",
    "Standardization of datasets is a common requirement for many machine learning algorithms as many elements used in the objective function assume that all features are centered around zero and have variance in the same order. If a feature has a variance that is orders of magnitude larger than others, it might dominate the objective function and make the estimator unable to learn from other features correctly as expected.\n",
    "\n",
    "We can explore further the distribution of each feature by class."
   ]
  },
  {
   "cell_type": "code",
   "execution_count": null,
   "id": "f705cb6b",
   "metadata": {},
   "outputs": [],
   "source": [
    "print(df.describe())"
   ]
  },
  {
   "cell_type": "code",
   "execution_count": null,
   "id": "0830018a",
   "metadata": {},
   "outputs": [],
   "source": [
    "             RI          Na          Mg          Al          Si           K  \\\n",
    "count  214.000000  214.000000  214.000000  214.000000  214.000000  214.000000   \n",
    "mean     1.518365   13.407850    2.684533    1.444907   72.650935    0.497056   \n",
    "std      0.003037    0.816604    1.442408    0.499270    0.774546    0.652192   \n",
    "min      1.511150   10.730000    0.000000    0.290000   69.810000    0.000000   \n",
    "25%      1.516523   12.907500    2.115000    1.190000   72.280000    0.122500   \n",
    "50%      1.517680   13.300000    3.480000    1.360000   72.790000    0.555000   \n",
    "75%      1.519157   13.825000    3.600000    1.630000   73.087500    0.610000   \n",
    "max      1.533930   17.380000    4.490000    3.500000   75.410000    6.210000   \n",
    "\n",
    "               Ca          Ba          Fe       Class  \n",
    "count  214.000000  214.000000  214.000000  214.000000  \n",
    "mean     8.956963    0.175047    0.057009    2.780374  \n",
    "std      1.423153    0.497219    0.097439    2.103739  \n",
    "min      5.430000    0.000000    0.000000    1.000000  \n",
    "25%      8.240000    0.000000    0.000000    1.000000  \n",
    "50%      8.600000    0.000000    0.000000    2.000000  \n",
    "75%      9.172500    0.000000    0.100000    3.000000  \n",
    "max     16.190000    3.150000    0.510000    7.000000  "
   ]
  },
  {
   "cell_type": "code",
   "execution_count": null,
   "id": "29e40a68",
   "metadata": {},
   "outputs": [],
   "source": [
    "fig,ax=plt.subplots(figsize=(10, 10))\n",
    "sns.boxplot(data=df.loc[:,\"RI\":\"Fe\"], palette='Paired',ax=ax)\n",
    "sns.despine()\n",
    "plt.title('Plot 1.1 Boxplot Glass data set')"
   ]
  },
  {
   "cell_type": "code",
   "execution_count": null,
   "id": "439b9079",
   "metadata": {},
   "outputs": [],
   "source": []
  },
  {
   "cell_type": "code",
   "execution_count": null,
   "id": "d8343545",
   "metadata": {},
   "outputs": [],
   "source": []
  },
  {
   "cell_type": "code",
   "execution_count": null,
   "id": "82676fc4",
   "metadata": {},
   "outputs": [],
   "source": []
  },
  {
   "cell_type": "code",
   "execution_count": null,
   "id": "32b237e2",
   "metadata": {},
   "outputs": [],
   "source": []
  },
  {
   "cell_type": "code",
   "execution_count": null,
   "id": "faa057dc",
   "metadata": {},
   "outputs": [],
   "source": []
  },
  {
   "cell_type": "code",
   "execution_count": null,
   "id": "effaa45e",
   "metadata": {},
   "outputs": [],
   "source": []
  },
  {
   "cell_type": "code",
   "execution_count": null,
   "id": "afd2d1a0",
   "metadata": {},
   "outputs": [],
   "source": []
  },
  {
   "cell_type": "code",
   "execution_count": null,
   "id": "56e9b6d6",
   "metadata": {},
   "outputs": [],
   "source": []
  },
  {
   "cell_type": "code",
   "execution_count": null,
   "id": "5ee9fb2c",
   "metadata": {},
   "outputs": [],
   "source": []
  },
  {
   "cell_type": "code",
   "execution_count": null,
   "id": "87994d12",
   "metadata": {},
   "outputs": [],
   "source": []
  },
  {
   "cell_type": "code",
   "execution_count": null,
   "id": "973ff24b",
   "metadata": {},
   "outputs": [],
   "source": []
  },
  {
   "cell_type": "code",
   "execution_count": null,
   "id": "20a04d71",
   "metadata": {},
   "outputs": [],
   "source": []
  },
  {
   "cell_type": "code",
   "execution_count": null,
   "id": "f9e80264",
   "metadata": {},
   "outputs": [],
   "source": []
  },
  {
   "cell_type": "code",
   "execution_count": null,
   "id": "11613375",
   "metadata": {},
   "outputs": [],
   "source": []
  },
  {
   "cell_type": "code",
   "execution_count": null,
   "id": "da07d04f",
   "metadata": {},
   "outputs": [],
   "source": []
  },
  {
   "cell_type": "code",
   "execution_count": null,
   "id": "5e0ed167",
   "metadata": {},
   "outputs": [],
   "source": []
  },
  {
   "cell_type": "code",
   "execution_count": null,
   "id": "5ee8041b",
   "metadata": {},
   "outputs": [],
   "source": []
  },
  {
   "cell_type": "code",
   "execution_count": null,
   "id": "f2e7777d",
   "metadata": {},
   "outputs": [],
   "source": []
  },
  {
   "cell_type": "code",
   "execution_count": null,
   "id": "524c82f4",
   "metadata": {},
   "outputs": [],
   "source": []
  },
  {
   "cell_type": "code",
   "execution_count": null,
   "id": "720cd186",
   "metadata": {},
   "outputs": [],
   "source": []
  },
  {
   "cell_type": "code",
   "execution_count": null,
   "id": "b559213c",
   "metadata": {},
   "outputs": [],
   "source": []
  },
  {
   "cell_type": "code",
   "execution_count": null,
   "id": "cb676e20",
   "metadata": {},
   "outputs": [],
   "source": []
  },
  {
   "cell_type": "code",
   "execution_count": null,
   "id": "8a14ec2a",
   "metadata": {},
   "outputs": [],
   "source": []
  },
  {
   "cell_type": "code",
   "execution_count": null,
   "id": "4b8a8841",
   "metadata": {},
   "outputs": [],
   "source": []
  },
  {
   "cell_type": "code",
   "execution_count": null,
   "id": "6c0bc076",
   "metadata": {},
   "outputs": [],
   "source": []
  },
  {
   "cell_type": "code",
   "execution_count": null,
   "id": "a8497bea",
   "metadata": {},
   "outputs": [],
   "source": []
  }
 ],
 "metadata": {
  "kernelspec": {
   "display_name": "Python 3 (ipykernel)",
   "language": "python",
   "name": "python3"
  },
  "language_info": {
   "codemirror_mode": {
    "name": "ipython",
    "version": 3
   },
   "file_extension": ".py",
   "mimetype": "text/x-python",
   "name": "python",
   "nbconvert_exporter": "python",
   "pygments_lexer": "ipython3",
   "version": "3.10.9"
  }
 },
 "nbformat": 4,
 "nbformat_minor": 5
}
